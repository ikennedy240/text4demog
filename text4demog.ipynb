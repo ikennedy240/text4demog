{
  "cells": [
    {
      "cell_type": "markdown",
      "metadata": {
        "colab_type": "text",
        "id": "view-in-github"
      },
      "source": [
        "<a href=\"https://colab.research.google.com/github/ikennedy240/text4demog/blob/master/text4demog.ipynb\" target=\"_parent\"><img src=\"https://colab.research.google.com/assets/colab-badge.svg\" alt=\"Open In Colab\"/></a>"
      ]
    },
    {
      "cell_type": "markdown",
      "metadata": {
        "id": "S47kXEiGkyQa"
      },
      "source": [
        "# Text Analysis for Demography\n",
        "*Ian Kennedy*  \n",
        "University of Washington"
      ]
    },
    {
      "cell_type": "markdown",
      "metadata": {
        "id": "QWPfy-VokyQi"
      },
      "source": [
        "This notebook works through a couple python examples of text analysis using a small set of scraped craigslist data. Google Colab gives you a free and surprisingly fast cloud-based python kernel to use to test and write jupyter notebooks. This notebook reads data from the text4demog repository created and maintained by Ian Kennedy ikennedy@uw.edu.\n",
        "\n",
        "The data contained there and used for this demo is for test/demo purposes only. If you're interested in craigslist or twitter data appropriate for research, please reach out to me."
      ]
    },
    {
      "cell_type": "code",
      "execution_count": 1,
      "metadata": {
        "collapsed": true,
        "id": "th7e-59-kyQk"
      },
      "outputs": [
        {
          "ename": "ModuleNotFoundError",
          "evalue": "No module named 'matplotlib'",
          "output_type": "error",
          "traceback": [
            "\u001b[0;31m---------------------------------------------------------------------------\u001b[0m",
            "\u001b[0;31mModuleNotFoundError\u001b[0m                       Traceback (most recent call last)",
            "\u001b[0;32m/var/folders/_4/lmy6xsgj0912zw_9dhmwr3vc0000gn/T/ipykernel_34515/4206573990.py\u001b[0m in \u001b[0;36m<module>\u001b[0;34m\u001b[0m\n\u001b[1;32m      1\u001b[0m \u001b[0;32mimport\u001b[0m \u001b[0mpandas\u001b[0m \u001b[0;32mas\u001b[0m \u001b[0mpd\u001b[0m\u001b[0;34m\u001b[0m\u001b[0;34m\u001b[0m\u001b[0m\n\u001b[1;32m      2\u001b[0m \u001b[0;32mimport\u001b[0m \u001b[0mnumpy\u001b[0m \u001b[0;32mas\u001b[0m \u001b[0mnp\u001b[0m\u001b[0;34m\u001b[0m\u001b[0;34m\u001b[0m\u001b[0m\n\u001b[0;32m----> 3\u001b[0;31m \u001b[0;32mimport\u001b[0m \u001b[0mmatplotlib\u001b[0m\u001b[0;34m.\u001b[0m\u001b[0mpyplot\u001b[0m \u001b[0;32mas\u001b[0m \u001b[0mplt\u001b[0m\u001b[0;34m\u001b[0m\u001b[0;34m\u001b[0m\u001b[0m\n\u001b[0m\u001b[1;32m      4\u001b[0m \u001b[0;32mimport\u001b[0m \u001b[0mregex\u001b[0m \u001b[0;32mas\u001b[0m \u001b[0mre\u001b[0m\u001b[0;34m\u001b[0m\u001b[0;34m\u001b[0m\u001b[0m\n\u001b[1;32m      5\u001b[0m \u001b[0mget_ipython\u001b[0m\u001b[0;34m(\u001b[0m\u001b[0;34m)\u001b[0m\u001b[0;34m.\u001b[0m\u001b[0mrun_line_magic\u001b[0m\u001b[0;34m(\u001b[0m\u001b[0;34m'matplotlib'\u001b[0m\u001b[0;34m,\u001b[0m \u001b[0;34m'inline'\u001b[0m\u001b[0;34m)\u001b[0m\u001b[0;34m\u001b[0m\u001b[0;34m\u001b[0m\u001b[0m\n",
            "\u001b[0;31mModuleNotFoundError\u001b[0m: No module named 'matplotlib'"
          ]
        }
      ],
      "source": [
        "import pandas as pd\n",
        "import numpy as np\n",
        "import matplotlib.pyplot as plt\n",
        "import regex as re\n",
        "%matplotlib inline"
      ]
    },
    {
      "cell_type": "code",
      "execution_count": null,
      "metadata": {
        "id": "vpbLN7gdfg0O"
      },
      "outputs": [],
      "source": []
    },
    {
      "cell_type": "code",
      "execution_count": 7,
      "metadata": {
        "colab": {
          "base_uri": "https://localhost:8080/",
          "height": 622
        },
        "id": "nLJNQGJdkyQp",
        "outputId": "f8ad0363-e58a-435b-e8e9-a29459b472d8"
      },
      "outputs": [
        {
          "data": {
            "text/html": [
              "<div>\n",
              "<style scoped>\n",
              "    .dataframe tbody tr th:only-of-type {\n",
              "        vertical-align: middle;\n",
              "    }\n",
              "\n",
              "    .dataframe tbody tr th {\n",
              "        vertical-align: top;\n",
              "    }\n",
              "\n",
              "    .dataframe thead th {\n",
              "        text-align: right;\n",
              "    }\n",
              "</style>\n",
              "<table border=\"1\" class=\"dataframe\">\n",
              "  <thead>\n",
              "    <tr style=\"text-align: right;\">\n",
              "      <th></th>\n",
              "      <th>cleanRent</th>\n",
              "      <th>cleanSqft</th>\n",
              "      <th>cleanBeds</th>\n",
              "      <th>lat</th>\n",
              "      <th>lng</th>\n",
              "      <th>GEOID10</th>\n",
              "      <th>seattle</th>\n",
              "      <th>listingTitle</th>\n",
              "      <th>listingText</th>\n",
              "      <th>cleanText</th>\n",
              "      <th>neighborhood_type</th>\n",
              "      <th>white_proportion</th>\n",
              "      <th>black_proportion</th>\n",
              "      <th>aindian_proportion</th>\n",
              "      <th>asian_proportion</th>\n",
              "      <th>pacisland_proportion</th>\n",
              "      <th>other_proportion</th>\n",
              "      <th>latinx_proportion</th>\n",
              "      <th>all_other_proportion</th>\n",
              "      <th>pov_proportion</th>\n",
              "      <th>pop_thousands</th>\n",
              "      <th>share_oo</th>\n",
              "      <th>share_rental_over_20</th>\n",
              "      <th>share_built_after_10</th>\n",
              "      <th>share_commuters</th>\n",
              "      <th>share_college</th>\n",
              "      <th>high_white</th>\n",
              "    </tr>\n",
              "    <tr>\n",
              "      <th>postID</th>\n",
              "      <th></th>\n",
              "      <th></th>\n",
              "      <th></th>\n",
              "      <th></th>\n",
              "      <th></th>\n",
              "      <th></th>\n",
              "      <th></th>\n",
              "      <th></th>\n",
              "      <th></th>\n",
              "      <th></th>\n",
              "      <th></th>\n",
              "      <th></th>\n",
              "      <th></th>\n",
              "      <th></th>\n",
              "      <th></th>\n",
              "      <th></th>\n",
              "      <th></th>\n",
              "      <th></th>\n",
              "      <th></th>\n",
              "      <th></th>\n",
              "      <th></th>\n",
              "      <th></th>\n",
              "      <th></th>\n",
              "      <th></th>\n",
              "      <th></th>\n",
              "      <th></th>\n",
              "      <th></th>\n",
              "    </tr>\n",
              "  </thead>\n",
              "  <tbody>\n",
              "    <tr>\n",
              "      <th>post id: 6571302181</th>\n",
              "      <td>1900</td>\n",
              "      <td>1536</td>\n",
              "      <td>3</td>\n",
              "      <td>47.506616</td>\n",
              "      <td>-122.515246</td>\n",
              "      <td>53035092704</td>\n",
              "      <td>0.0</td>\n",
              "      <td>3 Bd, 2 Bath home 1 mile from Southworth Ferry!</td>\n",
              "      <td>\\nDesirable Southworth area 3 bedroom 2 full b...</td>\n",
              "      <td>3 bd 2 bath home 1 mile from southworth ferry ...</td>\n",
              "      <td>predominantly white</td>\n",
              "      <td>0.908531</td>\n",
              "      <td>0.002772</td>\n",
              "      <td>0.002772</td>\n",
              "      <td>0.007083</td>\n",
              "      <td>0.000000</td>\n",
              "      <td>0.034801</td>\n",
              "      <td>0.044041</td>\n",
              "      <td>0.037573</td>\n",
              "      <td>0.066523</td>\n",
              "      <td>3.247</td>\n",
              "      <td>0.796339</td>\n",
              "      <td>0.000000</td>\n",
              "      <td>0.020595</td>\n",
              "      <td>0.314136</td>\n",
              "      <td>0.130274</td>\n",
              "      <td>True</td>\n",
              "    </tr>\n",
              "    <tr>\n",
              "      <th>post id: 6604373845</th>\n",
              "      <td>1000</td>\n",
              "      <td>575</td>\n",
              "      <td>1</td>\n",
              "      <td>47.154868</td>\n",
              "      <td>-122.466552</td>\n",
              "      <td>53053071706</td>\n",
              "      <td>0.0</td>\n",
              "      <td>Looking for immediate move in? We got the 1 be...</td>\n",
              "      <td>\\nFrom your first look you will be captivated ...</td>\n",
              "      <td>looking for immediate move in we got the 1 bed...</td>\n",
              "      <td>white mixed</td>\n",
              "      <td>0.508395</td>\n",
              "      <td>0.158972</td>\n",
              "      <td>0.000000</td>\n",
              "      <td>0.014690</td>\n",
              "      <td>0.121721</td>\n",
              "      <td>0.069255</td>\n",
              "      <td>0.122770</td>\n",
              "      <td>0.190976</td>\n",
              "      <td>0.162644</td>\n",
              "      <td>1.906</td>\n",
              "      <td>0.287779</td>\n",
              "      <td>0.106439</td>\n",
              "      <td>0.019711</td>\n",
              "      <td>0.396118</td>\n",
              "      <td>0.099161</td>\n",
              "      <td>False</td>\n",
              "    </tr>\n",
              "    <tr>\n",
              "      <th>post id: 6294456525</th>\n",
              "      <td>2000</td>\n",
              "      <td>982</td>\n",
              "      <td>2</td>\n",
              "      <td>47.703510</td>\n",
              "      <td>-122.346820</td>\n",
              "      <td>53033001300</td>\n",
              "      <td>1.0</td>\n",
              "      <td>Newer &amp; Spacious 2 BR/1.5 bath w/attached 1 ca...</td>\n",
              "      <td>\\r\\nNewer with modern design in desirable Gree...</td>\n",
              "      <td>newer spacious 2 br 1 5 bath w attached 1 car ...</td>\n",
              "      <td>white asian</td>\n",
              "      <td>0.594545</td>\n",
              "      <td>0.050882</td>\n",
              "      <td>0.000000</td>\n",
              "      <td>0.221636</td>\n",
              "      <td>0.000000</td>\n",
              "      <td>0.055237</td>\n",
              "      <td>0.077699</td>\n",
              "      <td>0.055237</td>\n",
              "      <td>0.111850</td>\n",
              "      <td>4.363</td>\n",
              "      <td>0.427978</td>\n",
              "      <td>0.241921</td>\n",
              "      <td>0.011080</td>\n",
              "      <td>0.385056</td>\n",
              "      <td>0.266331</td>\n",
              "      <td>False</td>\n",
              "    </tr>\n",
              "    <tr>\n",
              "      <th>post id: 6489736188</th>\n",
              "      <td>2295</td>\n",
              "      <td>975</td>\n",
              "      <td>2</td>\n",
              "      <td>47.618820</td>\n",
              "      <td>-122.322040</td>\n",
              "      <td>53033007402</td>\n",
              "      <td>1.0</td>\n",
              "      <td>2 bd 1 ba Spacious True Capitol Hill Apt.</td>\n",
              "      <td>\\nAWESOME APARTMENT ALERT! We are moving out o...</td>\n",
              "      <td>2 bd 1 ba spacious true apt awesome apartment ...</td>\n",
              "      <td>white asian</td>\n",
              "      <td>0.670378</td>\n",
              "      <td>0.061508</td>\n",
              "      <td>0.000000</td>\n",
              "      <td>0.126118</td>\n",
              "      <td>0.002555</td>\n",
              "      <td>0.078664</td>\n",
              "      <td>0.056032</td>\n",
              "      <td>0.081219</td>\n",
              "      <td>0.184158</td>\n",
              "      <td>5.479</td>\n",
              "      <td>0.204895</td>\n",
              "      <td>0.579112</td>\n",
              "      <td>0.015083</td>\n",
              "      <td>0.187991</td>\n",
              "      <td>0.281621</td>\n",
              "      <td>False</td>\n",
              "    </tr>\n",
              "    <tr>\n",
              "      <th>post id: 6072824373</th>\n",
              "      <td>2450</td>\n",
              "      <td>2650</td>\n",
              "      <td>4</td>\n",
              "      <td>47.482660</td>\n",
              "      <td>-122.192580</td>\n",
              "      <td>53033025601</td>\n",
              "      <td>0.0</td>\n",
              "      <td>$2450 / 4br-2650sqft - Lake+City View House, R...</td>\n",
              "      <td>\\r\\nSpectacular view of Lake Washington, Seatt...</td>\n",
              "      <td>$2450 4br 2650sqft lake city view house great ...</td>\n",
              "      <td>mixed</td>\n",
              "      <td>0.370931</td>\n",
              "      <td>0.048070</td>\n",
              "      <td>0.000000</td>\n",
              "      <td>0.293149</td>\n",
              "      <td>0.031226</td>\n",
              "      <td>0.051665</td>\n",
              "      <td>0.188872</td>\n",
              "      <td>0.082892</td>\n",
              "      <td>0.112633</td>\n",
              "      <td>5.284</td>\n",
              "      <td>0.624315</td>\n",
              "      <td>0.254609</td>\n",
              "      <td>0.004484</td>\n",
              "      <td>0.418244</td>\n",
              "      <td>0.154996</td>\n",
              "      <td>False</td>\n",
              "    </tr>\n",
              "  </tbody>\n",
              "</table>\n",
              "</div>"
            ],
            "text/plain": [
              "                     cleanRent  cleanSqft  ...  share_college  high_white\n",
              "postID                                     ...                           \n",
              "post id: 6571302181       1900       1536  ...       0.130274        True\n",
              "post id: 6604373845       1000        575  ...       0.099161       False\n",
              "post id: 6294456525       2000        982  ...       0.266331       False\n",
              "post id: 6489736188       2295        975  ...       0.281621       False\n",
              "post id: 6072824373       2450       2650  ...       0.154996       False\n",
              "\n",
              "[5 rows x 27 columns]"
            ]
          },
          "execution_count": 7,
          "metadata": {},
          "output_type": "execute_result"
        }
      ],
      "source": [
        "# we read the csv data\n",
        "df = pd.read_csv('https://raw.githubusercontent.com/ikennedy240/text4demog/master/data/seattle_sample_demog.csv',index_col=0,dtype = {'GEOID10':object,'blockid':object, 'postID':object})\n",
        "df['high_white'] = df.white_proportion > np.median(df.white_proportion)\n",
        "\n",
        "# then look at it, seems like a lot of fields\n",
        "df.head()"
      ]
    },
    {
      "cell_type": "markdown",
      "metadata": {
        "id": "ObKI77vSkyQr"
      },
      "source": [
        "Ok, this gives us a pandas data frame with 5000 observations, each a *Craigslist* listing with the text, some meta-data (like the geocoded location and tract id), the listing title and text, a cleaned version of those, and some tract-level covariates. We're going to be looking at how the listing text varies with some of those covariates.\n",
        "\n",
        "We'll start at the word level, move over to R for some document level work, and then back here for some word embeddings if we have time."
      ]
    },
    {
      "cell_type": "markdown",
      "metadata": {
        "id": "jUJ1f9JIkyQr"
      },
      "source": [
        "## Word Level Analysis"
      ]
    },
    {
      "cell_type": "markdown",
      "metadata": {
        "id": "3Ak3h0KnkyQs"
      },
      "source": [
        "Perhpas the simplist way of looking into the texts is to do some keyword analysis. If we already know what we're looking for, we can pull out some interesting things. For instance, we can see the difference in means for listings that have the word 'hardwood' or not:"
      ]
    },
    {
      "cell_type": "code",
      "execution_count": null,
      "metadata": {
        "colab": {
          "base_uri": "https://localhost:8080/",
          "height": 163
        },
        "id": "6C5AwtU6kyQt",
        "outputId": "4fc28d2b-90b1-4e43-86b6-2d8c3b5f4ea1"
      },
      "outputs": [
        {
          "data": {
            "text/html": [
              "<div>\n",
              "<style scoped>\n",
              "    .dataframe tbody tr th:only-of-type {\n",
              "        vertical-align: middle;\n",
              "    }\n",
              "\n",
              "    .dataframe tbody tr th {\n",
              "        vertical-align: top;\n",
              "    }\n",
              "\n",
              "    .dataframe thead th {\n",
              "        text-align: right;\n",
              "    }\n",
              "</style>\n",
              "<table border=\"1\" class=\"dataframe\">\n",
              "  <thead>\n",
              "    <tr style=\"text-align: right;\">\n",
              "      <th></th>\n",
              "      <th>cleanRent</th>\n",
              "      <th>cleanSqft</th>\n",
              "      <th>cleanBeds</th>\n",
              "      <th>lat</th>\n",
              "      <th>lng</th>\n",
              "      <th>seattle</th>\n",
              "      <th>white_proportion</th>\n",
              "      <th>black_proportion</th>\n",
              "      <th>aindian_proportion</th>\n",
              "      <th>asian_proportion</th>\n",
              "      <th>pacisland_proportion</th>\n",
              "      <th>other_proportion</th>\n",
              "      <th>latinx_proportion</th>\n",
              "      <th>all_other_proportion</th>\n",
              "      <th>pov_proportion</th>\n",
              "      <th>pop_thousands</th>\n",
              "      <th>share_oo</th>\n",
              "      <th>share_rental_over_20</th>\n",
              "      <th>share_built_after_10</th>\n",
              "      <th>share_commuters</th>\n",
              "      <th>share_college</th>\n",
              "      <th>high_white</th>\n",
              "    </tr>\n",
              "    <tr>\n",
              "      <th>cleanText</th>\n",
              "      <th></th>\n",
              "      <th></th>\n",
              "      <th></th>\n",
              "      <th></th>\n",
              "      <th></th>\n",
              "      <th></th>\n",
              "      <th></th>\n",
              "      <th></th>\n",
              "      <th></th>\n",
              "      <th></th>\n",
              "      <th></th>\n",
              "      <th></th>\n",
              "      <th></th>\n",
              "      <th></th>\n",
              "      <th></th>\n",
              "      <th></th>\n",
              "      <th></th>\n",
              "      <th></th>\n",
              "      <th></th>\n",
              "      <th></th>\n",
              "      <th></th>\n",
              "      <th></th>\n",
              "    </tr>\n",
              "  </thead>\n",
              "  <tbody>\n",
              "    <tr>\n",
              "      <th>False</th>\n",
              "      <td>1902.646470</td>\n",
              "      <td>1121.287144</td>\n",
              "      <td>2.001581</td>\n",
              "      <td>47.572678</td>\n",
              "      <td>-122.321826</td>\n",
              "      <td>0.393883</td>\n",
              "      <td>0.655345</td>\n",
              "      <td>0.050444</td>\n",
              "      <td>0.006266</td>\n",
              "      <td>0.138964</td>\n",
              "      <td>0.006077</td>\n",
              "      <td>0.054142</td>\n",
              "      <td>0.086702</td>\n",
              "      <td>0.066485</td>\n",
              "      <td>0.126039</td>\n",
              "      <td>5.737086</td>\n",
              "      <td>0.495376</td>\n",
              "      <td>0.197384</td>\n",
              "      <td>0.029308</td>\n",
              "      <td>0.341920</td>\n",
              "      <td>0.216911</td>\n",
              "      <td>0.478398</td>\n",
              "    </tr>\n",
              "    <tr>\n",
              "      <th>True</th>\n",
              "      <td>2363.681894</td>\n",
              "      <td>1410.066445</td>\n",
              "      <td>2.368771</td>\n",
              "      <td>47.594714</td>\n",
              "      <td>-122.314008</td>\n",
              "      <td>0.518703</td>\n",
              "      <td>0.682694</td>\n",
              "      <td>0.042924</td>\n",
              "      <td>0.005585</td>\n",
              "      <td>0.136364</td>\n",
              "      <td>0.004580</td>\n",
              "      <td>0.052155</td>\n",
              "      <td>0.073697</td>\n",
              "      <td>0.062319</td>\n",
              "      <td>0.112182</td>\n",
              "      <td>5.753631</td>\n",
              "      <td>0.507072</td>\n",
              "      <td>0.201123</td>\n",
              "      <td>0.028770</td>\n",
              "      <td>0.338721</td>\n",
              "      <td>0.246290</td>\n",
              "      <td>0.566445</td>\n",
              "    </tr>\n",
              "  </tbody>\n",
              "</table>\n",
              "</div>"
            ],
            "text/plain": [
              "             cleanRent    cleanSqft  ...  share_college  high_white\n",
              "cleanText                            ...                           \n",
              "False      1902.646470  1121.287144  ...       0.216911    0.478398\n",
              "True       2363.681894  1410.066445  ...       0.246290    0.566445\n",
              "\n",
              "[2 rows x 22 columns]"
            ]
          },
          "execution_count": 5,
          "metadata": {},
          "output_type": "execute_result"
        }
      ],
      "source": [
        "df.groupby(df.cleanText.str.contains(\"hardwood\")).mean()"
      ]
    },
    {
      "cell_type": "code",
      "execution_count": null,
      "metadata": {
        "colab": {
          "base_uri": "https://localhost:8080/",
          "height": 163
        },
        "id": "pGJEXLvwkyQ2",
        "outputId": "62399777-6d61-4f5d-eee6-60e60c5fc0ec"
      },
      "outputs": [
        {
          "data": {
            "text/html": [
              "<div>\n",
              "<style scoped>\n",
              "    .dataframe tbody tr th:only-of-type {\n",
              "        vertical-align: middle;\n",
              "    }\n",
              "\n",
              "    .dataframe tbody tr th {\n",
              "        vertical-align: top;\n",
              "    }\n",
              "\n",
              "    .dataframe thead th {\n",
              "        text-align: right;\n",
              "    }\n",
              "</style>\n",
              "<table border=\"1\" class=\"dataframe\">\n",
              "  <thead>\n",
              "    <tr style=\"text-align: right;\">\n",
              "      <th></th>\n",
              "      <th>cleanRent</th>\n",
              "      <th>cleanSqft</th>\n",
              "      <th>cleanBeds</th>\n",
              "      <th>lat</th>\n",
              "      <th>lng</th>\n",
              "      <th>seattle</th>\n",
              "      <th>white_proportion</th>\n",
              "      <th>black_proportion</th>\n",
              "      <th>aindian_proportion</th>\n",
              "      <th>asian_proportion</th>\n",
              "      <th>pacisland_proportion</th>\n",
              "      <th>other_proportion</th>\n",
              "      <th>latinx_proportion</th>\n",
              "      <th>all_other_proportion</th>\n",
              "      <th>pov_proportion</th>\n",
              "      <th>pop_thousands</th>\n",
              "      <th>share_oo</th>\n",
              "      <th>share_rental_over_20</th>\n",
              "      <th>share_built_after_10</th>\n",
              "      <th>share_commuters</th>\n",
              "      <th>share_college</th>\n",
              "      <th>high_white</th>\n",
              "    </tr>\n",
              "    <tr>\n",
              "      <th>cleanText</th>\n",
              "      <th></th>\n",
              "      <th></th>\n",
              "      <th></th>\n",
              "      <th></th>\n",
              "      <th></th>\n",
              "      <th></th>\n",
              "      <th></th>\n",
              "      <th></th>\n",
              "      <th></th>\n",
              "      <th></th>\n",
              "      <th></th>\n",
              "      <th></th>\n",
              "      <th></th>\n",
              "      <th></th>\n",
              "      <th></th>\n",
              "      <th></th>\n",
              "      <th></th>\n",
              "      <th></th>\n",
              "      <th></th>\n",
              "      <th></th>\n",
              "      <th></th>\n",
              "      <th></th>\n",
              "    </tr>\n",
              "  </thead>\n",
              "  <tbody>\n",
              "    <tr>\n",
              "      <th>False</th>\n",
              "      <td>1993.146082</td>\n",
              "      <td>1192.842842</td>\n",
              "      <td>2.101776</td>\n",
              "      <td>47.576990</td>\n",
              "      <td>-122.319836</td>\n",
              "      <td>0.419699</td>\n",
              "      <td>0.661945</td>\n",
              "      <td>0.048615</td>\n",
              "      <td>0.006127</td>\n",
              "      <td>0.137769</td>\n",
              "      <td>0.005822</td>\n",
              "      <td>0.053756</td>\n",
              "      <td>0.083940</td>\n",
              "      <td>0.065705</td>\n",
              "      <td>0.122512</td>\n",
              "      <td>5.732103</td>\n",
              "      <td>0.502730</td>\n",
              "      <td>0.191838</td>\n",
              "      <td>0.028178</td>\n",
              "      <td>0.342332</td>\n",
              "      <td>0.222478</td>\n",
              "      <td>0.500940</td>\n",
              "    </tr>\n",
              "    <tr>\n",
              "      <th>True</th>\n",
              "      <td>2470.302326</td>\n",
              "      <td>1145.920930</td>\n",
              "      <td>1.827907</td>\n",
              "      <td>47.600113</td>\n",
              "      <td>-122.322337</td>\n",
              "      <td>0.518692</td>\n",
              "      <td>0.661599</td>\n",
              "      <td>0.049042</td>\n",
              "      <td>0.005556</td>\n",
              "      <td>0.151010</td>\n",
              "      <td>0.003363</td>\n",
              "      <td>0.051602</td>\n",
              "      <td>0.075357</td>\n",
              "      <td>0.060521</td>\n",
              "      <td>0.126942</td>\n",
              "      <td>5.940642</td>\n",
              "      <td>0.397205</td>\n",
              "      <td>0.341760</td>\n",
              "      <td>0.051428</td>\n",
              "      <td>0.314820</td>\n",
              "      <td>0.257552</td>\n",
              "      <td>0.469767</td>\n",
              "    </tr>\n",
              "  </tbody>\n",
              "</table>\n",
              "</div>"
            ],
            "text/plain": [
              "             cleanRent    cleanSqft  ...  share_college  high_white\n",
              "cleanText                            ...                           \n",
              "False      1993.146082  1192.842842  ...       0.222478    0.500940\n",
              "True       2470.302326  1145.920930  ...       0.257552    0.469767\n",
              "\n",
              "[2 rows x 22 columns]"
            ]
          },
          "execution_count": 6,
          "metadata": {},
          "output_type": "execute_result"
        }
      ],
      "source": [
        "df.groupby(df.cleanText.str.contains(\"luxury\")).mean()"
      ]
    },
    {
      "cell_type": "code",
      "execution_count": null,
      "metadata": {
        "colab": {
          "base_uri": "https://localhost:8080/",
          "height": 163
        },
        "id": "miuON_UQkyQ4",
        "outputId": "40814508-fed8-4811-b3b2-dbc1cdb71e56"
      },
      "outputs": [
        {
          "data": {
            "text/html": [
              "<div>\n",
              "<style scoped>\n",
              "    .dataframe tbody tr th:only-of-type {\n",
              "        vertical-align: middle;\n",
              "    }\n",
              "\n",
              "    .dataframe tbody tr th {\n",
              "        vertical-align: top;\n",
              "    }\n",
              "\n",
              "    .dataframe thead th {\n",
              "        text-align: right;\n",
              "    }\n",
              "</style>\n",
              "<table border=\"1\" class=\"dataframe\">\n",
              "  <thead>\n",
              "    <tr style=\"text-align: right;\">\n",
              "      <th></th>\n",
              "      <th>cleanRent</th>\n",
              "      <th>cleanSqft</th>\n",
              "      <th>cleanBeds</th>\n",
              "      <th>lat</th>\n",
              "      <th>lng</th>\n",
              "      <th>seattle</th>\n",
              "      <th>white_proportion</th>\n",
              "      <th>black_proportion</th>\n",
              "      <th>aindian_proportion</th>\n",
              "      <th>asian_proportion</th>\n",
              "      <th>pacisland_proportion</th>\n",
              "      <th>other_proportion</th>\n",
              "      <th>latinx_proportion</th>\n",
              "      <th>all_other_proportion</th>\n",
              "      <th>pov_proportion</th>\n",
              "      <th>pop_thousands</th>\n",
              "      <th>share_oo</th>\n",
              "      <th>share_rental_over_20</th>\n",
              "      <th>share_built_after_10</th>\n",
              "      <th>share_commuters</th>\n",
              "      <th>share_college</th>\n",
              "      <th>high_white</th>\n",
              "    </tr>\n",
              "    <tr>\n",
              "      <th>cleanText</th>\n",
              "      <th></th>\n",
              "      <th></th>\n",
              "      <th></th>\n",
              "      <th></th>\n",
              "      <th></th>\n",
              "      <th></th>\n",
              "      <th></th>\n",
              "      <th></th>\n",
              "      <th></th>\n",
              "      <th></th>\n",
              "      <th></th>\n",
              "      <th></th>\n",
              "      <th></th>\n",
              "      <th></th>\n",
              "      <th></th>\n",
              "      <th></th>\n",
              "      <th></th>\n",
              "      <th></th>\n",
              "      <th></th>\n",
              "      <th></th>\n",
              "      <th></th>\n",
              "      <th></th>\n",
              "    </tr>\n",
              "  </thead>\n",
              "  <tbody>\n",
              "    <tr>\n",
              "      <th>False</th>\n",
              "      <td>2015.979456</td>\n",
              "      <td>1193.261027</td>\n",
              "      <td>2.094058</td>\n",
              "      <td>47.578545</td>\n",
              "      <td>-122.320038</td>\n",
              "      <td>0.425116</td>\n",
              "      <td>0.662693</td>\n",
              "      <td>0.048471</td>\n",
              "      <td>0.006099</td>\n",
              "      <td>0.138150</td>\n",
              "      <td>0.005673</td>\n",
              "      <td>0.053630</td>\n",
              "      <td>0.083241</td>\n",
              "      <td>0.065402</td>\n",
              "      <td>0.122457</td>\n",
              "      <td>5.740122</td>\n",
              "      <td>0.498813</td>\n",
              "      <td>0.198001</td>\n",
              "      <td>0.029160</td>\n",
              "      <td>0.341031</td>\n",
              "      <td>0.224257</td>\n",
              "      <td>0.500906</td>\n",
              "    </tr>\n",
              "    <tr>\n",
              "      <th>True</th>\n",
              "      <td>1685.171429</td>\n",
              "      <td>845.285714</td>\n",
              "      <td>1.514286</td>\n",
              "      <td>47.498462</td>\n",
              "      <td>-122.306481</td>\n",
              "      <td>0.257143</td>\n",
              "      <td>0.553728</td>\n",
              "      <td>0.071582</td>\n",
              "      <td>0.006540</td>\n",
              "      <td>0.165003</td>\n",
              "      <td>0.011933</td>\n",
              "      <td>0.058335</td>\n",
              "      <td>0.130396</td>\n",
              "      <td>0.076808</td>\n",
              "      <td>0.157491</td>\n",
              "      <td>5.875600</td>\n",
              "      <td>0.410242</td>\n",
              "      <td>0.238567</td>\n",
              "      <td>0.031736</td>\n",
              "      <td>0.357989</td>\n",
              "      <td>0.185493</td>\n",
              "      <td>0.314286</td>\n",
              "    </tr>\n",
              "  </tbody>\n",
              "</table>\n",
              "</div>"
            ],
            "text/plain": [
              "             cleanRent    cleanSqft  ...  share_college  high_white\n",
              "cleanText                            ...                           \n",
              "False      2015.979456  1193.261027  ...       0.224257    0.500906\n",
              "True       1685.171429   845.285714  ...       0.185493    0.314286\n",
              "\n",
              "[2 rows x 22 columns]"
            ]
          },
          "execution_count": 7,
          "metadata": {},
          "output_type": "execute_result"
        }
      ],
      "source": [
        "df.groupby(df.cleanText.str.contains(\"patrol\")).mean()"
      ]
    },
    {
      "cell_type": "code",
      "execution_count": null,
      "metadata": {
        "colab": {
          "base_uri": "https://localhost:8080/",
          "height": 163
        },
        "id": "i4apL3r5kyQ4",
        "outputId": "46f6d5dd-1b1a-4b19-bbbf-7a326a075792"
      },
      "outputs": [
        {
          "data": {
            "text/html": [
              "<div>\n",
              "<style scoped>\n",
              "    .dataframe tbody tr th:only-of-type {\n",
              "        vertical-align: middle;\n",
              "    }\n",
              "\n",
              "    .dataframe tbody tr th {\n",
              "        vertical-align: top;\n",
              "    }\n",
              "\n",
              "    .dataframe thead th {\n",
              "        text-align: right;\n",
              "    }\n",
              "</style>\n",
              "<table border=\"1\" class=\"dataframe\">\n",
              "  <thead>\n",
              "    <tr style=\"text-align: right;\">\n",
              "      <th></th>\n",
              "      <th>cleanRent</th>\n",
              "      <th>cleanSqft</th>\n",
              "      <th>cleanBeds</th>\n",
              "      <th>lat</th>\n",
              "      <th>lng</th>\n",
              "      <th>seattle</th>\n",
              "      <th>white_proportion</th>\n",
              "      <th>black_proportion</th>\n",
              "      <th>aindian_proportion</th>\n",
              "      <th>asian_proportion</th>\n",
              "      <th>pacisland_proportion</th>\n",
              "      <th>other_proportion</th>\n",
              "      <th>latinx_proportion</th>\n",
              "      <th>all_other_proportion</th>\n",
              "      <th>pov_proportion</th>\n",
              "      <th>pop_thousands</th>\n",
              "      <th>share_oo</th>\n",
              "      <th>share_rental_over_20</th>\n",
              "      <th>share_built_after_10</th>\n",
              "      <th>share_commuters</th>\n",
              "      <th>share_college</th>\n",
              "      <th>high_white</th>\n",
              "    </tr>\n",
              "    <tr>\n",
              "      <th>cleanText</th>\n",
              "      <th></th>\n",
              "      <th></th>\n",
              "      <th></th>\n",
              "      <th></th>\n",
              "      <th></th>\n",
              "      <th></th>\n",
              "      <th></th>\n",
              "      <th></th>\n",
              "      <th></th>\n",
              "      <th></th>\n",
              "      <th></th>\n",
              "      <th></th>\n",
              "      <th></th>\n",
              "      <th></th>\n",
              "      <th></th>\n",
              "      <th></th>\n",
              "      <th></th>\n",
              "      <th></th>\n",
              "      <th></th>\n",
              "      <th></th>\n",
              "      <th></th>\n",
              "      <th></th>\n",
              "    </tr>\n",
              "  </thead>\n",
              "  <tbody>\n",
              "    <tr>\n",
              "      <th>False</th>\n",
              "      <td>2009.610169</td>\n",
              "      <td>1199.666667</td>\n",
              "      <td>2.107135</td>\n",
              "      <td>47.577403</td>\n",
              "      <td>-122.320529</td>\n",
              "      <td>0.403979</td>\n",
              "      <td>0.666352</td>\n",
              "      <td>0.046168</td>\n",
              "      <td>0.006101</td>\n",
              "      <td>0.136751</td>\n",
              "      <td>0.005701</td>\n",
              "      <td>0.053471</td>\n",
              "      <td>0.083430</td>\n",
              "      <td>0.065273</td>\n",
              "      <td>0.120048</td>\n",
              "      <td>5.746297</td>\n",
              "      <td>0.504247</td>\n",
              "      <td>0.192791</td>\n",
              "      <td>0.028806</td>\n",
              "      <td>0.344672</td>\n",
              "      <td>0.223077</td>\n",
              "      <td>0.504708</td>\n",
              "    </tr>\n",
              "    <tr>\n",
              "      <th>True</th>\n",
              "      <td>2101.321267</td>\n",
              "      <td>999.633484</td>\n",
              "      <td>1.719457</td>\n",
              "      <td>47.590546</td>\n",
              "      <td>-122.307283</td>\n",
              "      <td>0.855204</td>\n",
              "      <td>0.566307</td>\n",
              "      <td>0.101929</td>\n",
              "      <td>0.006123</td>\n",
              "      <td>0.172650</td>\n",
              "      <td>0.006045</td>\n",
              "      <td>0.057822</td>\n",
              "      <td>0.086603</td>\n",
              "      <td>0.069990</td>\n",
              "      <td>0.180095</td>\n",
              "      <td>5.628041</td>\n",
              "      <td>0.367275</td>\n",
              "      <td>0.317074</td>\n",
              "      <td>0.037223</td>\n",
              "      <td>0.264977</td>\n",
              "      <td>0.243632</td>\n",
              "      <td>0.389140</td>\n",
              "    </tr>\n",
              "  </tbody>\n",
              "</table>\n",
              "</div>"
            ],
            "text/plain": [
              "             cleanRent    cleanSqft  ...  share_college  high_white\n",
              "cleanText                            ...                           \n",
              "False      2009.610169  1199.666667  ...       0.223077    0.504708\n",
              "True       2101.321267   999.633484  ...       0.243632    0.389140\n",
              "\n",
              "[2 rows x 22 columns]"
            ]
          },
          "execution_count": 8,
          "metadata": {},
          "output_type": "execute_result"
        }
      ],
      "source": [
        "df.groupby(df.cleanText.str.contains(\"light rail\")).mean()"
      ]
    },
    {
      "cell_type": "markdown",
      "metadata": {
        "id": "jbcNh8wBkyQ5"
      },
      "source": [
        "### Tokenization\n",
        "To get more detailed, we'll need to tokenize the text"
      ]
    },
    {
      "cell_type": "code",
      "execution_count": null,
      "metadata": {
        "colab": {
          "base_uri": "https://localhost:8080/",
          "height": 73
        },
        "id": "cKqPjpt4kyQ7",
        "outputId": "595e83c5-f4e2-491c-f37c-6e1278067122"
      },
      "outputs": [
        {
          "data": {
            "application/vnd.google.colaboratory.intrinsic+json": {
              "type": "string"
            },
            "text/plain": [
              "'stunner 18th floor view square feet spacious studio amazing views washington state ferries centurylink stadium beauty cozy spacious plenty closet space modern appliances plenty room make studio home brand interiors include plank flooring stainless appliances quartz counter tops'"
            ]
          },
          "execution_count": 14,
          "metadata": {},
          "output_type": "execute_result"
        }
      ],
      "source": [
        "# get stop words and compile into regex\n",
        "from sklearn.feature_extraction.text import ENGLISH_STOP_WORDS as stop_words\n",
        "pattern = re.compile(r'\\b(' + r'|'.join(stop_words) + r')\\b\\s*', flags=re.IGNORECASE)\n",
        "\n",
        "X = [[word for word in pattern.sub('', document.lower()).split() if len(word)>3] for document in df.cleanText.values]\n",
        "X = [' '.join(x) for x in X]\n",
        "\n",
        "# form train test split\n",
        "from sklearn.model_selection import train_test_split\n",
        "\n",
        "# this is important because it's where we set our outcome variable: above median white proportion\n",
        "X_train, X_test, y_train, y_test = train_test_split(X, df['high_white'], random_state=0)\n",
        "\n",
        "# look at the first item in train\n",
        "X_train[1]"
      ]
    },
    {
      "cell_type": "markdown",
      "metadata": {
        "id": "OvxId9mpkyQ8"
      },
      "source": [
        "### Count Vectorizer"
      ]
    },
    {
      "cell_type": "code",
      "execution_count": null,
      "metadata": {
        "colab": {
          "base_uri": "https://localhost:8080/"
        },
        "id": "qSY6kSFHkyQ8",
        "outputId": "34eb508e-0456-44a3-b335-0a22b2f87bbe"
      },
      "outputs": [
        {
          "name": "stdout",
          "output_type": "stream",
          "text": [
            "Total Features:  13281\n"
          ]
        }
      ],
      "source": [
        "from sklearn.feature_extraction.text import CountVectorizer\n",
        "# Fit the CountVectorizer to the training data\n",
        "vect = CountVectorizer(stop_words=stop_words).fit(X_train)\n",
        "print(\"Total Features: \", len(vect.get_feature_names()))\n",
        "X_train_vectorized =  vect.transform(X_train)"
      ]
    },
    {
      "cell_type": "markdown",
      "metadata": {
        "id": "p5Xeq6BAkyQ9"
      },
      "source": [
        "### Word Level Logistic Regression"
      ]
    },
    {
      "cell_type": "code",
      "execution_count": null,
      "metadata": {
        "colab": {
          "base_uri": "https://localhost:8080/"
        },
        "id": "y7JLvThokyQ9",
        "outputId": "8c9ea102-39bf-4f40-d885-559af5eaa565"
      },
      "outputs": [
        {
          "name": "stderr",
          "output_type": "stream",
          "text": [
            "/usr/local/lib/python3.7/dist-packages/sklearn/linear_model/_logistic.py:1505: UserWarning: Setting penalty='none' will ignore the C and l1_ratio parameters\n",
            "  \"Setting penalty='none' will ignore the C and l1_ratio \"\n"
          ]
        },
        {
          "name": "stdout",
          "output_type": "stream",
          "text": [
            "ROC AUC:  0.7000473630312339\n",
            "ACCURACY:  0.6536\n"
          ]
        }
      ],
      "source": [
        "from sklearn.linear_model import LogisticRegression\n",
        "from sklearn.metrics import roc_auc_score, accuracy_score\n",
        "model = LogisticRegression(penalty = 'none',C=.1).fit(X_train_vectorized, y_train)\n",
        "\n",
        "# Predict the transformed test documents\n",
        "predictions = model.predict_proba(vect.transform(X_test))[:,1]\n",
        "print(\"ROC AUC: \", roc_auc_score(y_test, predictions))\n",
        "print(\"ACCURACY: \", accuracy_score(y_test, model.predict(vect.transform(X_test))))\n",
        "# get the feature names as numpy array\n",
        "feature_names = np.array(vect.get_feature_names())\n",
        "# Sort the coefficients from the model\n",
        "sorted_coef_index = model.coef_[0].argsort()"
      ]
    },
    {
      "cell_type": "markdown",
      "metadata": {
        "id": "QC6p7TiykyQ_"
      },
      "source": [
        "Considering that it's binary, that's not a great result, but we're not really here for the accuracy, we're interested in the features."
      ]
    },
    {
      "cell_type": "code",
      "execution_count": null,
      "metadata": {
        "colab": {
          "base_uri": "https://localhost:8080/"
        },
        "id": "h9BKYeTpkyQ_",
        "outputId": "4b288b40-2f2d-4a65-d5c8-a2e2a9d6e944"
      },
      "outputs": [
        {
          "name": "stdout",
          "output_type": "stream",
          "text": [
            "Smallest Coefs:\n",
            "['airport' 'concierge' '98144' 'seward' 'rich' 'westwood' '98109'\n",
            " 'picture' 'intercom' 'furnishings' '98052' 'type' 'sculpture' 'student'\n",
            " 'john' 'thursday' 'stackable' 'cabana' '98037' 'evenings']\n",
            "\n",
            "Largest Coefs: \n",
            "['psns' 'getting' 'septic' 'nordstrom' 'salmon' 'meet' 'cooling' '98102'\n",
            " 'lined' 'woodland' '98033' 'eviction' 'hold' 'marina' 'children' 'bridge'\n",
            " '98119' 'junction' '98115' 'ferry']\n"
          ]
        }
      ],
      "source": [
        "# Find the 20 smallest and 20 largest coefficients\n",
        "# The 20 largest coefficients are being indexed using [:-11:-1]\n",
        "# so the list returned is in order of largest to smallest\n",
        "print('Smallest Coefs:\\n{}\\n'.format(feature_names[sorted_coef_index[:20]]))\n",
        "print('Largest Coefs: \\n{}'.format(feature_names[sorted_coef_index[-20:]]))"
      ]
    },
    {
      "cell_type": "markdown",
      "metadata": {
        "id": "2X15LFjCkyRA"
      },
      "source": [
        "We can try using ngram features"
      ]
    },
    {
      "cell_type": "code",
      "execution_count": null,
      "metadata": {
        "colab": {
          "base_uri": "https://localhost:8080/"
        },
        "id": "e_KXsxlakyRA",
        "outputId": "e7eebba5-724b-4a90-b249-10175c5c23dd"
      },
      "outputs": [
        {
          "name": "stdout",
          "output_type": "stream",
          "text": [
            "Total Features:  699875\n"
          ]
        },
        {
          "name": "stderr",
          "output_type": "stream",
          "text": [
            "/usr/local/lib/python3.7/dist-packages/sklearn/linear_model/_logistic.py:1505: UserWarning: Setting penalty='none' will ignore the C and l1_ratio parameters\n",
            "  \"Setting penalty='none' will ignore the C and l1_ratio \"\n"
          ]
        },
        {
          "name": "stdout",
          "output_type": "stream",
          "text": [
            "ROC AUC:  0.7384037378392216\n",
            "ACCURACY:  0.6632\n",
            "Smallest Coefs:\n",
            "['microsoft' 'airport' 'mall' 'center' 'offers' 'college' 'shopping'\n",
            " 'rail' 'light rail' 'campus' 'station' 'breakfast' 'town center'\n",
            " 'concierge' 'come' 'townhouse' 'south' 'email' 'reserved' 'want']\n",
            "\n",
            "Largest Coefs: \n",
            "['best' 'main floor' 'children' 'marina' '98115' 'junction' 'sunny'\n",
            " 'high ceilings' 'friendly' 'approximately' 'heart' 'ceilings' 'sound'\n",
            " 'charming' 'building' 'restaurants' 'bike' 'ferry' 'beach' 'market']\n"
          ]
        }
      ],
      "source": [
        "vect = CountVectorizer(stop_words=stop_words,ngram_range=(1,4)).fit(X_train)\n",
        "print(\"Total Features: \", len(vect.get_feature_names()))\n",
        "X_train_vectorized =  vect.transform(X_train)\n",
        "model = LogisticRegression(penalty = 'none',C=.1).fit(X_train_vectorized, y_train)\n",
        "\n",
        "# Predict the transformed test documents\n",
        "predictions = model.predict_proba(vect.transform(X_test))[:,1]\n",
        "print(\"ROC AUC: \", roc_auc_score(y_test, predictions))\n",
        "print(\"ACCURACY: \", accuracy_score(y_test, model.predict(vect.transform(X_test))))\n",
        "# get the feature names as numpy array\n",
        "feature_names = np.array(vect.get_feature_names())\n",
        "# Sort the coefficients from the model\n",
        "sorted_coef_index = model.coef_[0].argsort()\n",
        "print('Smallest Coefs:\\n{}\\n'.format(feature_names[sorted_coef_index[:20]]))\n",
        "print('Largest Coefs: \\n{}'.format(feature_names[sorted_coef_index[-20:]]))"
      ]
    },
    {
      "cell_type": "markdown",
      "metadata": {
        "id": "2MOoOpCMkyRA"
      },
      "source": [
        "We don't see much improvement even though we have many many more features. That's partially because this data set is so small. Still, many of these words are similar to what I see when I run this analysis on the full set of data.\n",
        "\n",
        "\n",
        "### Naive Bayes on Twitter Data"
      ]
    },
    {
      "cell_type": "code",
      "execution_count": 8,
      "metadata": {
        "collapsed": true,
        "id": "mKZk82arkyRB"
      },
      "outputs": [],
      "source": [
        "tweets = pd.read_csv('https://raw.githubusercontent.com/ikennedy240/text4demog/master/data/responses_3_6.csv')"
      ]
    },
    {
      "cell_type": "code",
      "execution_count": null,
      "metadata": {
        "collapsed": true,
        "id": "ohW3BSE8kyRB"
      },
      "outputs": [],
      "source": [
        "tweets['racist'] = tweets.valence.str.contains(\"Racist\", na = False)\n",
        "tweets['empowering'] = tweets.valence.str.contains(\"Empowering\", na = False)\n",
        "tweets['antiracist'] = tweets.valence.str.contains(\"Anti\", na = False)"
      ]
    },
    {
      "cell_type": "code",
      "execution_count": null,
      "metadata": {
        "colab": {
          "base_uri": "https://localhost:8080/"
        },
        "id": "ETZXX5O_kyRD",
        "outputId": "7cb7fa44-8068-4faa-8957-752c090e6e04"
      },
      "outputs": [
        {
          "name": "stdout",
          "output_type": "stream",
          "text": [
            "Tweet: @sherrishultz @dergholt @the_moviebob (actual) racism systemic. <u+2019>s ideology exists maintain white dominance people color \n",
            "\n",
            " Marked as Empowering: True\n"
          ]
        }
      ],
      "source": [
        "X = [[word for word in pattern.sub('', document.lower()).split() if len(word)>3] for document in tweets.text.values]\n",
        "X = [' '.join(x) for x in X]\n",
        "\n",
        "# form train test split\n",
        "# this is important because it's where we set our outcome variable: \n",
        "X_train, X_test, y_train, y_test = train_test_split(X, tweets['racist'], random_state=0)\n",
        "\n",
        "# look at the first item in train\n",
        "print(\"Tweet:\",X_train[0],\"\\n\\n Marked as Empowering:\", y_train.iloc[0])"
      ]
    },
    {
      "cell_type": "code",
      "execution_count": null,
      "metadata": {
        "colab": {
          "base_uri": "https://localhost:8080/"
        },
        "id": "RALhCplmkyRF",
        "outputId": "29f20b27-8d09-4a85-ee69-ca619aa18aad"
      },
      "outputs": [
        {
          "name": "stdout",
          "output_type": "stream",
          "text": [
            "Total Features:  3283\n"
          ]
        }
      ],
      "source": [
        "from sklearn.naive_bayes import MultinomialNB\n",
        "# lets just use 1 and 2 grams\n",
        "vect = CountVectorizer(stop_words=stop_words,ngram_range=(1,2)).fit(X_train)\n",
        "print(\"Total Features: \", len(vect.get_feature_names()))\n",
        "X_train_vectorized =  vect.transform(X_train)"
      ]
    },
    {
      "cell_type": "code",
      "execution_count": null,
      "metadata": {
        "colab": {
          "base_uri": "https://localhost:8080/"
        },
        "id": "QeG5jcDikyRG",
        "outputId": "36dcd418-f89e-4928-e736-50b69d77eb58"
      },
      "outputs": [
        {
          "name": "stdout",
          "output_type": "stream",
          "text": [
            "ROC AUC:  0.7616738816738816\n",
            "ACCURACY:  0.7222222222222222\n",
            "Smallest Coefs:\n",
            "['zionist blacks' 'murder' 'multitude experiences' 'multitude'\n",
            " 'com dunkin' 'movie true' 'movie' 'mouth white' 'mouth' 'comes'\n",
            " 'commandant' 'commandant following' 'murder look' 'mother lobby'\n",
            " 'comment saying' 'commenting' 'commenting issues' 'moron bitch' 'moron'\n",
            " 'monkey lose']\n",
            "\n",
            "Largest Coefs: \n",
            "['magic' 'love black' 'know' 'time' 'love' 'american' 'black people'\n",
            " 'black girl' 'girl' 'black women' 'like' 'white' 'just' 'women'\n",
            " 'africanamerican' 'don' '2019' 'people' 'https' 'black']\n"
          ]
        }
      ],
      "source": [
        "model = MultinomialNB().fit(X_train_vectorized, y_train)\n",
        "\n",
        "# Predict the transformed test documents\n",
        "predictions = model.predict_proba(vect.transform(X_test))[:,1]\n",
        "print(\"ROC AUC: \", roc_auc_score(y_test, predictions))\n",
        "print(\"ACCURACY: \", accuracy_score(y_test, model.predict(vect.transform(X_test))))\n",
        "# get the feature names as numpy array\n",
        "feature_names = np.array(vect.get_feature_names())\n",
        "# Sort the posterior probabilities from the model\n",
        "sorted_coef_index = model.feature_log_prob_[0].argsort()\n",
        "print('Smallest Coefs:\\n{}\\n'.format(feature_names[sorted_coef_index[:20]]))\n",
        "print('Largest Coefs: \\n{}'.format(feature_names[sorted_coef_index[-20:]]))"
      ]
    },
    {
      "cell_type": "markdown",
      "metadata": {
        "id": "CfBhgU-EkyRG"
      },
      "source": [
        "## Word Embeddings with Gensim word2vec"
      ]
    },
    {
      "cell_type": "code",
      "execution_count": null,
      "metadata": {
        "collapsed": true,
        "id": "4QdNOf1kkyRH"
      },
      "outputs": [],
      "source": [
        "import logging\n",
        "import os\n",
        "from gensim.models import Word2Vec\n",
        "from gensim.models.phrases import Phrases, Phraser\n",
        "from sklearn.manifold import TSNE\n",
        "from sklearn.decomposition import PCA\n",
        "from nltk.stem import PorterStemmer\n",
        "# gensim can hang sometimes so it's good to use this logger esp. in notebook\n",
        "logging.basicConfig(format='%(asctime)s : %(levelname)s : %(message)s', level=logging.INFO)"
      ]
    },
    {
      "cell_type": "code",
      "execution_count": null,
      "metadata": {
        "collapsed": true,
        "id": "7rB8Oj4KkyRI"
      },
      "outputs": [],
      "source": [
        "# class for reading gensim stuff\n",
        "class MySentences(object):\n",
        "    def __init__(self, document):\n",
        "        self.document = document\n",
        "\n",
        "    def __iter__(self):\n",
        "        ps = PorterStemmer()\n",
        "        punctuation_pattern = r\"[#\\w]+|[!?]+\" # compile a regex that saves certain characters\n",
        "        url_pattern = r'(http)?(www)?\\S*(\\.com|\\.net|\\.gov|\\.be|\\.org)\\S*'\n",
        "        short_pattern = r\"(^| |')\\b\\w{1,3}\\b\"\n",
        "        for line in self.document:\n",
        "            line = re.sub(url_pattern,' its_a_URL ', line.lower()) # clean URLS\n",
        "            line = re.sub(r'\\s\\w*\\d+\\w*\\s', ' its_a_number ', line)  # clean Numbers\n",
        "            #line = re.sub(short_pattern, ' ', line)\n",
        "            line = re.sub(r'\\W',' ',line)\n",
        "            line = re.sub(r'queen anne', 'queen_anne', line)\n",
        "            line = re.sub(r'(u district)|(university district)', 'university_district', line)\n",
        "            line = re.sub(r'courtesy patrol', 'courtesy_patrol', line)\n",
        "            line = re.sub(r'gated community', 'gated_community', line)\n",
        "            yield [ps.stem(x) for x in line.split()]"
      ]
    },
    {
      "cell_type": "code",
      "execution_count": null,
      "metadata": {
        "collapsed": true,
        "id": "DKx08eUOkyRJ"
      },
      "outputs": [],
      "source": [
        "\n",
        "def display_keywords_PCAscatterplot(model, word, ref = False, key_words = None, fig = None, ax = None, title=None):\n",
        "\n",
        "    arr = np.empty((0,100), dtype='f')\n",
        "    word_labels = [word]\n",
        "    word_vectors = model.wv\n",
        "\n",
        "    # if there are no keywords, get the closest 20 from the model\n",
        "    if key_words is None:\n",
        "        key_words = [x[0] for x in word_vectors.similar_by_word(word, topn = 7)]\n",
        "\n",
        "    # add the vector for each of the closest words to the array\n",
        "    arr = np.append(arr, np.array([word_vectors[word]]), axis=0)\n",
        "    for key_word in key_words:\n",
        "        try:\n",
        "            wrd_vector = word_vectors[key_word]\n",
        "        except KeyError:\n",
        "            print(\"KeyError: \"+key_word+\" not in this model\")\n",
        "            continue\n",
        "        word_labels.append(key_word)\n",
        "        arr = np.append(arr, np.array([wrd_vector]), axis=0)\n",
        "    pca = PCA(n_components=2)\n",
        "    result = pca.fit_transform(arr)\n",
        "    # create a scatter plot of the projection\n",
        "    if fig is None:\n",
        "        fig, ax = plt.subplots(figsize = (12.8,9.6))\n",
        "    if ref:\n",
        "        ax.scatter(result[:, 0], result[:, 1], c = 'r')\n",
        "        display_keywords_PCAscatterplot(models['sent_tokenized.txt'], word = word, key_words=  key_words, fig = fig, ax = ax)\n",
        "    if not ref:\n",
        "        ax.scatter(result[:, 0], result[:, 1], c = 'b')\n",
        "    for i, word in enumerate(word_labels):\n",
        "        ax.annotate(word, xy=(result[i, 0]+.04, result[i, 1]+.04), fontsize = 16)\n",
        "    ax.set_title(title)\n",
        "    print(word_labels)\n",
        "    #return fig"
      ]
    },
    {
      "cell_type": "code",
      "execution_count": null,
      "metadata": {
        "colab": {
          "base_uri": "https://localhost:8080/"
        },
        "collapsed": true,
        "id": "B-gnjSMKkyRK",
        "outputId": "0a2be86c-b679-4863-dc24-72d2b8a4b6d7"
      },
      "outputs": [
        {
          "name": "stderr",
          "output_type": "stream",
          "text": [
            "2021-10-15 20:20:54,730 : INFO : collecting all words and their counts\n",
            "2021-10-15 20:20:54,742 : INFO : PROGRESS: at sentence #0, processed 0 words, keeping 0 word types\n",
            "2021-10-15 20:21:13,769 : INFO : collected 11089 word types from a corpus of 835765 raw words and 5000 sentences\n",
            "2021-10-15 20:21:13,771 : INFO : Loading a fresh vocabulary\n",
            "2021-10-15 20:21:13,788 : INFO : effective_min_count=5 retains 3943 unique words (35% of original 11089, drops 7146)\n",
            "2021-10-15 20:21:13,790 : INFO : effective_min_count=5 leaves 823999 word corpus (98% of original 835765, drops 11766)\n",
            "2021-10-15 20:21:13,808 : INFO : deleting the raw counts dictionary of 11089 items\n",
            "2021-10-15 20:21:13,810 : INFO : sample=0.001 downsamples 63 most-common words\n",
            "2021-10-15 20:21:13,812 : INFO : downsampling leaves estimated 626916 word corpus (76.1% of prior 823999)\n",
            "2021-10-15 20:21:13,829 : INFO : estimated required memory for 3943 words and 100 dimensions: 5125900 bytes\n",
            "2021-10-15 20:21:13,831 : INFO : resetting layer weights\n",
            "2021-10-15 20:21:14,709 : INFO : training model with 2 workers on 3943 vocabulary and 100 features, using sg=0 hs=0 sample=0.001 negative=5 window=5\n",
            "2021-10-15 20:21:15,916 : INFO : EPOCH 1 - PROGRESS: at 5.92% examples, 31050 words/s, in_qsize 0, out_qsize 0\n",
            "2021-10-15 20:21:17,099 : INFO : EPOCH 1 - PROGRESS: at 11.64% examples, 31319 words/s, in_qsize 0, out_qsize 0\n",
            "2021-10-15 20:21:18,277 : INFO : EPOCH 1 - PROGRESS: at 17.64% examples, 31429 words/s, in_qsize 0, out_qsize 0\n",
            "2021-10-15 20:21:19,464 : INFO : EPOCH 1 - PROGRESS: at 23.74% examples, 31480 words/s, in_qsize 0, out_qsize 0\n",
            "2021-10-15 20:21:20,654 : INFO : EPOCH 1 - PROGRESS: at 29.20% examples, 31399 words/s, in_qsize 0, out_qsize 0\n",
            "2021-10-15 20:21:21,844 : INFO : EPOCH 1 - PROGRESS: at 35.42% examples, 31346 words/s, in_qsize 0, out_qsize 0\n",
            "2021-10-15 20:21:23,016 : INFO : EPOCH 1 - PROGRESS: at 41.28% examples, 31379 words/s, in_qsize 0, out_qsize 0\n",
            "2021-10-15 20:21:24,204 : INFO : EPOCH 1 - PROGRESS: at 47.26% examples, 31367 words/s, in_qsize 0, out_qsize 0\n",
            "2021-10-15 20:21:25,383 : INFO : EPOCH 1 - PROGRESS: at 52.98% examples, 31386 words/s, in_qsize 0, out_qsize 0\n",
            "2021-10-15 20:21:26,564 : INFO : EPOCH 1 - PROGRESS: at 58.98% examples, 31384 words/s, in_qsize 0, out_qsize 0\n",
            "2021-10-15 20:21:27,761 : INFO : EPOCH 1 - PROGRESS: at 65.00% examples, 31339 words/s, in_qsize 0, out_qsize 0\n",
            "2021-10-15 20:21:28,940 : INFO : EPOCH 1 - PROGRESS: at 70.76% examples, 31338 words/s, in_qsize 0, out_qsize 0\n",
            "2021-10-15 20:21:30,112 : INFO : EPOCH 1 - PROGRESS: at 76.66% examples, 31351 words/s, in_qsize 0, out_qsize 0\n",
            "2021-10-15 20:21:31,311 : INFO : EPOCH 1 - PROGRESS: at 82.70% examples, 31316 words/s, in_qsize 0, out_qsize 0\n",
            "2021-10-15 20:21:32,480 : INFO : EPOCH 1 - PROGRESS: at 88.80% examples, 31318 words/s, in_qsize 0, out_qsize 0\n",
            "2021-10-15 20:21:33,691 : INFO : EPOCH 1 - PROGRESS: at 94.76% examples, 31272 words/s, in_qsize 0, out_qsize 0\n",
            "2021-10-15 20:21:34,733 : INFO : worker thread finished; awaiting finish of 1 more threads\n",
            "2021-10-15 20:21:34,744 : INFO : EPOCH 1 - PROGRESS: at 100.00% examples, 31303 words/s, in_qsize 0, out_qsize 1\n",
            "2021-10-15 20:21:34,746 : INFO : worker thread finished; awaiting finish of 0 more threads\n",
            "2021-10-15 20:21:34,749 : INFO : EPOCH - 1 : training on 835765 raw words (627004 effective words) took 20.0s, 31295 effective words/s\n",
            "2021-10-15 20:21:35,969 : INFO : EPOCH 2 - PROGRESS: at 5.92% examples, 30794 words/s, in_qsize 0, out_qsize 0\n",
            "2021-10-15 20:21:37,163 : INFO : EPOCH 2 - PROGRESS: at 11.64% examples, 31055 words/s, in_qsize 0, out_qsize 0\n",
            "2021-10-15 20:21:38,346 : INFO : EPOCH 2 - PROGRESS: at 17.64% examples, 31215 words/s, in_qsize 0, out_qsize 0\n",
            "2021-10-15 20:21:39,537 : INFO : EPOCH 2 - PROGRESS: at 23.74% examples, 31263 words/s, in_qsize 0, out_qsize 0\n",
            "2021-10-15 20:21:40,735 : INFO : EPOCH 2 - PROGRESS: at 29.20% examples, 31200 words/s, in_qsize 0, out_qsize 0\n",
            "2021-10-15 20:21:41,940 : INFO : EPOCH 2 - PROGRESS: at 35.42% examples, 31124 words/s, in_qsize 0, out_qsize 0\n",
            "2021-10-15 20:21:43,115 : INFO : EPOCH 2 - PROGRESS: at 41.28% examples, 31187 words/s, in_qsize 0, out_qsize 0\n",
            "2021-10-15 20:21:44,298 : INFO : EPOCH 2 - PROGRESS: at 47.26% examples, 31219 words/s, in_qsize 0, out_qsize 0\n",
            "2021-10-15 20:21:45,495 : INFO : EPOCH 2 - PROGRESS: at 52.98% examples, 31203 words/s, in_qsize 0, out_qsize 0\n",
            "2021-10-15 20:21:46,675 : INFO : EPOCH 2 - PROGRESS: at 58.98% examples, 31215 words/s, in_qsize 0, out_qsize 0\n",
            "2021-10-15 20:21:47,851 : INFO : EPOCH 2 - PROGRESS: at 65.00% examples, 31224 words/s, in_qsize 0, out_qsize 0\n",
            "2021-10-15 20:21:49,042 : INFO : EPOCH 2 - PROGRESS: at 70.76% examples, 31208 words/s, in_qsize 0, out_qsize 0\n",
            "2021-10-15 20:21:50,227 : INFO : EPOCH 2 - PROGRESS: at 76.66% examples, 31205 words/s, in_qsize 0, out_qsize 0\n",
            "2021-10-15 20:21:51,441 : INFO : EPOCH 2 - PROGRESS: at 82.70% examples, 31158 words/s, in_qsize 0, out_qsize 0\n",
            "2021-10-15 20:21:52,608 : INFO : EPOCH 2 - PROGRESS: at 88.80% examples, 31188 words/s, in_qsize 0, out_qsize 0\n",
            "2021-10-15 20:21:53,814 : INFO : EPOCH 2 - PROGRESS: at 94.76% examples, 31154 words/s, in_qsize 0, out_qsize 0\n",
            "2021-10-15 20:21:54,843 : INFO : worker thread finished; awaiting finish of 1 more threads\n",
            "2021-10-15 20:21:54,857 : INFO : EPOCH 2 - PROGRESS: at 100.00% examples, 31203 words/s, in_qsize 0, out_qsize 1\n",
            "2021-10-15 20:21:54,859 : INFO : worker thread finished; awaiting finish of 0 more threads\n",
            "2021-10-15 20:21:54,860 : INFO : EPOCH - 2 : training on 835765 raw words (627104 effective words) took 20.1s, 31197 effective words/s\n",
            "2021-10-15 20:21:56,087 : INFO : EPOCH 3 - PROGRESS: at 5.92% examples, 30737 words/s, in_qsize 0, out_qsize 0\n",
            "2021-10-15 20:21:57,265 : INFO : EPOCH 3 - PROGRESS: at 11.64% examples, 31241 words/s, in_qsize 0, out_qsize 0\n",
            "2021-10-15 20:21:58,445 : INFO : EPOCH 3 - PROGRESS: at 17.64% examples, 31362 words/s, in_qsize 0, out_qsize 0\n",
            "2021-10-15 20:21:59,624 : INFO : EPOCH 3 - PROGRESS: at 23.74% examples, 31474 words/s, in_qsize 0, out_qsize 0\n",
            "2021-10-15 20:22:00,809 : INFO : EPOCH 3 - PROGRESS: at 29.20% examples, 31408 words/s, in_qsize 0, out_qsize 0\n",
            "2021-10-15 20:22:02,016 : INFO : EPOCH 3 - PROGRESS: at 35.42% examples, 31287 words/s, in_qsize 0, out_qsize 0\n",
            "2021-10-15 20:22:03,216 : INFO : EPOCH 3 - PROGRESS: at 41.28% examples, 31231 words/s, in_qsize 0, out_qsize 0\n",
            "2021-10-15 20:22:04,404 : INFO : EPOCH 3 - PROGRESS: at 47.26% examples, 31238 words/s, in_qsize 0, out_qsize 0\n",
            "2021-10-15 20:22:05,593 : INFO : EPOCH 3 - PROGRESS: at 52.98% examples, 31237 words/s, in_qsize 0, out_qsize 0\n",
            "2021-10-15 20:22:06,772 : INFO : EPOCH 3 - PROGRESS: at 58.98% examples, 31260 words/s, in_qsize 0, out_qsize 0\n",
            "2021-10-15 20:22:07,949 : INFO : EPOCH 3 - PROGRESS: at 65.00% examples, 31266 words/s, in_qsize 0, out_qsize 0\n",
            "2021-10-15 20:22:09,123 : INFO : EPOCH 3 - PROGRESS: at 70.76% examples, 31279 words/s, in_qsize 0, out_qsize 0\n",
            "2021-10-15 20:22:10,324 : INFO : EPOCH 3 - PROGRESS: at 76.66% examples, 31244 words/s, in_qsize 0, out_qsize 0\n",
            "2021-10-15 20:22:11,516 : INFO : EPOCH 3 - PROGRESS: at 82.70% examples, 31225 words/s, in_qsize 0, out_qsize 0\n",
            "2021-10-15 20:22:12,684 : INFO : EPOCH 3 - PROGRESS: at 88.80% examples, 31243 words/s, in_qsize 0, out_qsize 0\n",
            "2021-10-15 20:22:13,890 : INFO : EPOCH 3 - PROGRESS: at 94.76% examples, 31211 words/s, in_qsize 0, out_qsize 0\n",
            "2021-10-15 20:22:14,928 : INFO : worker thread finished; awaiting finish of 1 more threads\n",
            "2021-10-15 20:22:14,939 : INFO : EPOCH 3 - PROGRESS: at 100.00% examples, 31250 words/s, in_qsize 0, out_qsize 1\n",
            "2021-10-15 20:22:14,941 : INFO : worker thread finished; awaiting finish of 0 more threads\n",
            "2021-10-15 20:22:14,951 : INFO : EPOCH - 3 : training on 835765 raw words (627082 effective words) took 20.1s, 31232 effective words/s\n",
            "2021-10-15 20:22:16,168 : INFO : EPOCH 4 - PROGRESS: at 5.92% examples, 30848 words/s, in_qsize 0, out_qsize 0\n",
            "2021-10-15 20:22:17,360 : INFO : EPOCH 4 - PROGRESS: at 11.64% examples, 31039 words/s, in_qsize 0, out_qsize 0\n",
            "2021-10-15 20:22:18,563 : INFO : EPOCH 4 - PROGRESS: at 17.64% examples, 31007 words/s, in_qsize 0, out_qsize 0\n",
            "2021-10-15 20:22:19,765 : INFO : EPOCH 4 - PROGRESS: at 23.74% examples, 31038 words/s, in_qsize 0, out_qsize 0\n",
            "2021-10-15 20:22:20,955 : INFO : EPOCH 4 - PROGRESS: at 29.20% examples, 31057 words/s, in_qsize 0, out_qsize 0\n",
            "2021-10-15 20:22:22,168 : INFO : EPOCH 4 - PROGRESS: at 35.42% examples, 30974 words/s, in_qsize 0, out_qsize 0\n",
            "2021-10-15 20:22:23,348 : INFO : EPOCH 4 - PROGRESS: at 41.28% examples, 31041 words/s, in_qsize 0, out_qsize 0\n",
            "2021-10-15 20:22:24,553 : INFO : EPOCH 4 - PROGRESS: at 47.26% examples, 31025 words/s, in_qsize 0, out_qsize 0\n",
            "2021-10-15 20:22:25,737 : INFO : EPOCH 4 - PROGRESS: at 52.98% examples, 31060 words/s, in_qsize 0, out_qsize 0\n",
            "2021-10-15 20:22:26,922 : INFO : EPOCH 4 - PROGRESS: at 58.98% examples, 31073 words/s, in_qsize 0, out_qsize 0\n",
            "2021-10-15 20:22:28,106 : INFO : EPOCH 4 - PROGRESS: at 65.00% examples, 31082 words/s, in_qsize 0, out_qsize 0\n",
            "2021-10-15 20:22:29,295 : INFO : EPOCH 4 - PROGRESS: at 70.76% examples, 31075 words/s, in_qsize 0, out_qsize 0\n",
            "2021-10-15 20:22:30,483 : INFO : EPOCH 4 - PROGRESS: at 76.66% examples, 31074 words/s, in_qsize 0, out_qsize 0\n",
            "2021-10-15 20:22:31,689 : INFO : EPOCH 4 - PROGRESS: at 82.70% examples, 31044 words/s, in_qsize 0, out_qsize 0\n",
            "2021-10-15 20:22:32,858 : INFO : EPOCH 4 - PROGRESS: at 88.80% examples, 31071 words/s, in_qsize 0, out_qsize 0\n",
            "2021-10-15 20:22:34,090 : INFO : EPOCH 4 - PROGRESS: at 94.76% examples, 31005 words/s, in_qsize 0, out_qsize 0\n",
            "2021-10-15 20:22:35,130 : INFO : worker thread finished; awaiting finish of 1 more threads\n",
            "2021-10-15 20:22:35,139 : INFO : EPOCH 4 - PROGRESS: at 100.00% examples, 31050 words/s, in_qsize 0, out_qsize 1\n",
            "2021-10-15 20:22:35,141 : INFO : worker thread finished; awaiting finish of 0 more threads\n",
            "2021-10-15 20:22:35,143 : INFO : EPOCH - 4 : training on 835765 raw words (626728 effective words) took 20.2s, 31044 effective words/s\n",
            "2021-10-15 20:22:36,355 : INFO : EPOCH 5 - PROGRESS: at 5.92% examples, 30987 words/s, in_qsize 0, out_qsize 0\n",
            "2021-10-15 20:22:37,550 : INFO : EPOCH 5 - PROGRESS: at 11.64% examples, 31106 words/s, in_qsize 0, out_qsize 0\n",
            "2021-10-15 20:22:38,742 : INFO : EPOCH 5 - PROGRESS: at 17.64% examples, 31174 words/s, in_qsize 0, out_qsize 0\n",
            "2021-10-15 20:22:39,929 : INFO : EPOCH 5 - PROGRESS: at 23.74% examples, 31274 words/s, in_qsize 0, out_qsize 0\n",
            "2021-10-15 20:22:41,118 : INFO : EPOCH 5 - PROGRESS: at 29.20% examples, 31243 words/s, in_qsize 0, out_qsize 0\n",
            "2021-10-15 20:22:42,329 : INFO : EPOCH 5 - PROGRESS: at 35.42% examples, 31138 words/s, in_qsize 0, out_qsize 0\n",
            "2021-10-15 20:22:43,519 : INFO : EPOCH 5 - PROGRESS: at 41.28% examples, 31138 words/s, in_qsize 0, out_qsize 0\n",
            "2021-10-15 20:22:44,701 : INFO : EPOCH 5 - PROGRESS: at 47.26% examples, 31188 words/s, in_qsize 0, out_qsize 0\n",
            "2021-10-15 20:22:45,911 : INFO : EPOCH 5 - PROGRESS: at 52.98% examples, 31142 words/s, in_qsize 0, out_qsize 0\n",
            "2021-10-15 20:22:47,093 : INFO : EPOCH 5 - PROGRESS: at 58.98% examples, 31155 words/s, in_qsize 0, out_qsize 0\n",
            "2021-10-15 20:22:48,284 : INFO : EPOCH 5 - PROGRESS: at 65.00% examples, 31143 words/s, in_qsize 0, out_qsize 0\n",
            "2021-10-15 20:22:49,466 : INFO : EPOCH 5 - PROGRESS: at 70.76% examples, 31154 words/s, in_qsize 0, out_qsize 0\n",
            "2021-10-15 20:22:50,652 : INFO : EPOCH 5 - PROGRESS: at 76.66% examples, 31154 words/s, in_qsize 0, out_qsize 0\n",
            "2021-10-15 20:22:51,833 : INFO : EPOCH 5 - PROGRESS: at 82.70% examples, 31160 words/s, in_qsize 0, out_qsize 0\n",
            "2021-10-15 20:22:53,025 : INFO : EPOCH 5 - PROGRESS: at 88.80% examples, 31143 words/s, in_qsize 0, out_qsize 0\n",
            "2021-10-15 20:22:54,227 : INFO : EPOCH 5 - PROGRESS: at 94.76% examples, 31118 words/s, in_qsize 0, out_qsize 0\n",
            "2021-10-15 20:22:55,263 : INFO : worker thread finished; awaiting finish of 1 more threads\n",
            "2021-10-15 20:22:55,274 : INFO : EPOCH 5 - PROGRESS: at 100.00% examples, 31157 words/s, in_qsize 0, out_qsize 1\n",
            "2021-10-15 20:22:55,276 : INFO : worker thread finished; awaiting finish of 0 more threads\n",
            "2021-10-15 20:22:55,279 : INFO : EPOCH - 5 : training on 835765 raw words (626998 effective words) took 20.1s, 31148 effective words/s\n",
            "2021-10-15 20:22:55,281 : INFO : training on a 4178825 raw words (3134916 effective words) took 100.6s, 31171 effective words/s\n"
          ]
        }
      ],
      "source": [
        "# this chunk takes aprox 2mins to run\n",
        "\n",
        "# pass the text file to the sentence iterator\n",
        "sentences = MySentences(df.cleanText) # a memory-friendly iterator\n",
        "\n",
        "# train the w2v model\n",
        "model = Word2Vec(sentences, workers = 2)\n",
        "word_vectors = model.wv"
      ]
    },
    {
      "cell_type": "code",
      "execution_count": null,
      "metadata": {
        "colab": {
          "base_uri": "https://localhost:8080/",
          "height": 607
        },
        "id": "KgVUmWXlkyRK",
        "outputId": "14292f38-e665-40f8-b2cd-33f91885f13b"
      },
      "outputs": [
        {
          "name": "stderr",
          "output_type": "stream",
          "text": [
            "2021-10-15 20:27:06,806 : INFO : precomputing L2-norms of word weight vectors\n"
          ]
        },
        {
          "name": "stdout",
          "output_type": "stream",
          "text": [
            "['starbuck', 'safeway', 'qfc', 'meyer', 'fred', 'bartel', 'walmart', 'pcc']\n"
          ]
        },
        {
          "data": {
            "image/png": "[encoded data removed]",
            "text/plain": [
              "<Figure size 921.6x691.2 with 1 Axes>"
            ]
          },
          "metadata": {
            "needs_background": "light"
          },
          "output_type": "display_data"
        }
      ],
      "source": [
        "display_keywords_PCAscatterplot(model, 'starbuck')"
      ]
    },
    {
      "cell_type": "code",
      "execution_count": null,
      "metadata": {
        "colab": {
          "base_uri": "https://localhost:8080/",
          "height": 588
        },
        "id": "9J5RXC3wkyRL",
        "outputId": "8dc6557c-77f7-4bb0-f1f4-708103b2dfcc"
      },
      "outputs": [
        {
          "name": "stdout",
          "output_type": "stream",
          "text": [
            "['gated_commun', 'townhom', 'condominium', '2ba', 'stori', 'hollow', 'craftsman', 'execut']\n"
          ]
        },
        {
          "data": {
            "image/png": "[encoded data removed]",
            "text/plain": [
              "<Figure size 921.6x691.2 with 1 Axes>"
            ]
          },
          "metadata": {
            "needs_background": "light"
          },
          "output_type": "display_data"
        }
      ],
      "source": [
        "display_keywords_PCAscatterplot(model, 'gated_commun')"
      ]
    },
    {
      "cell_type": "code",
      "execution_count": null,
      "metadata": {
        "colab": {
          "base_uri": "https://localhost:8080/",
          "height": 588
        },
        "id": "uU0I-tFWkyRL",
        "outputId": "06288f27-6623-4666-8412-2c2c2ae210ea"
      },
      "outputs": [
        {
          "name": "stdout",
          "output_type": "stream",
          "text": [
            "['crimin', 'convict', 'histori', 'refer', 'neg', 'evict', 'record', 'verif']\n"
          ]
        },
        {
          "data": {
            "image/png": "[encoded data removed]",
            "text/plain": [
              "<Figure size 921.6x691.2 with 1 Axes>"
            ]
          },
          "metadata": {
            "needs_background": "light"
          },
          "output_type": "display_data"
        }
      ],
      "source": [
        "display_keywords_PCAscatterplot(model, 'crimin')"
      ]
    }
  ],
  "metadata": {
    "colab": {
      "include_colab_link": true,
      "name": "text4demog.ipynb",
      "provenance": []
    },
    "kernelspec": {
      "display_name": "Python 3",
      "language": "python",
      "name": "python3"
    },
    "language_info": {
      "codemirror_mode": {
        "name": "ipython",
        "version": 3
      },
      "file_extension": ".py",
      "mimetype": "text/x-python",
      "name": "python",
      "nbconvert_exporter": "python",
      "pygments_lexer": "ipython3",
      "version": "3.9.7"
    }
  },
  "nbformat": 4,
  "nbformat_minor": 0
}
